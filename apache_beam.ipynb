{
  "nbformat": 4,
  "nbformat_minor": 0,
  "metadata": {
    "colab": {
      "provenance": []
    },
    "kernelspec": {
      "name": "python3",
      "display_name": "Python 3"
    },
    "language_info": {
      "name": "python"
    }
  },
  "cells": [
    {
      "cell_type": "code",
      "execution_count": 1,
      "metadata": {
        "id": "8isXXOQe67RT"
      },
      "outputs": [],
      "source": [
        "# Advanced Apache Beam Analysis on Hamlet\n",
        "\n",
        "import apache_beam as beam\n",
        "from apache_beam.options.pipeline_options import PipelineOptions\n",
        "import re\n",
        "from collections import Counter"
      ]
    },
    {
      "cell_type": "code",
      "source": [
        "!pip install apache-beam"
      ],
      "metadata": {
        "colab": {
          "base_uri": "https://localhost:8080/"
        },
        "id": "6m8LlNxR7D7_",
        "outputId": "2f477be3-13e1-447e-bf44-47f0e0acf238"
      },
      "execution_count": 2,
      "outputs": [
        {
          "output_type": "stream",
          "name": "stdout",
          "text": [
            "Requirement already satisfied: apache-beam in /usr/local/lib/python3.12/dist-packages (2.68.0)\n",
            "Requirement already satisfied: crcmod<2.0,>=1.7 in /usr/local/lib/python3.12/dist-packages (from apache-beam) (1.7)\n",
            "Requirement already satisfied: orjson<4,>=3.9.7 in /usr/local/lib/python3.12/dist-packages (from apache-beam) (3.11.3)\n",
            "Requirement already satisfied: dill<0.3.2,>=0.3.1.1 in /usr/local/lib/python3.12/dist-packages (from apache-beam) (0.3.1.1)\n",
            "Requirement already satisfied: fastavro<2,>=0.23.6 in /usr/local/lib/python3.12/dist-packages (from apache-beam) (1.12.1)\n",
            "Requirement already satisfied: fasteners<1.0,>=0.3 in /usr/local/lib/python3.12/dist-packages (from apache-beam) (0.20)\n",
            "Requirement already satisfied: grpcio!=1.48.0,!=1.59.*,!=1.60.*,!=1.61.*,!=1.62.0,!=1.62.1,<1.66.0,<2,>=1.33.1 in /usr/local/lib/python3.12/dist-packages (from apache-beam) (1.65.5)\n",
            "Requirement already satisfied: hdfs<3.0.0,>=2.1.0 in /usr/local/lib/python3.12/dist-packages (from apache-beam) (2.7.3)\n",
            "Requirement already satisfied: httplib2<0.23.0,>=0.8 in /usr/local/lib/python3.12/dist-packages (from apache-beam) (0.22.0)\n",
            "Requirement already satisfied: jsonschema<5.0.0,>=4.0.0 in /usr/local/lib/python3.12/dist-packages (from apache-beam) (4.25.1)\n",
            "Requirement already satisfied: jsonpickle<4.0.0,>=3.0.0 in /usr/local/lib/python3.12/dist-packages (from apache-beam) (3.4.2)\n",
            "Requirement already satisfied: numpy<2.3.0,>=1.14.3 in /usr/local/lib/python3.12/dist-packages (from apache-beam) (2.0.2)\n",
            "Requirement already satisfied: objsize<0.8.0,>=0.6.1 in /usr/local/lib/python3.12/dist-packages (from apache-beam) (0.7.1)\n",
            "Requirement already satisfied: packaging>=22.0 in /usr/local/lib/python3.12/dist-packages (from apache-beam) (25.0)\n",
            "Requirement already satisfied: pymongo<5.0.0,>=3.8.0 in /usr/local/lib/python3.12/dist-packages (from apache-beam) (4.15.3)\n",
            "Requirement already satisfied: proto-plus<2,>=1.7.1 in /usr/local/lib/python3.12/dist-packages (from apache-beam) (1.26.1)\n",
            "Requirement already satisfied: protobuf!=4.0.*,!=4.21.*,!=4.22.0,!=4.23.*,!=4.24.*,<6.0.0.dev0,>=3.20.3 in /usr/local/lib/python3.12/dist-packages (from apache-beam) (5.29.5)\n",
            "Requirement already satisfied: pydot<2,>=1.2.0 in /usr/local/lib/python3.12/dist-packages (from apache-beam) (1.4.2)\n",
            "Requirement already satisfied: python-dateutil<3,>=2.8.0 in /usr/local/lib/python3.12/dist-packages (from apache-beam) (2.9.0.post0)\n",
            "Requirement already satisfied: pytz>=2018.3 in /usr/local/lib/python3.12/dist-packages (from apache-beam) (2025.2)\n",
            "Requirement already satisfied: redis<6,>=5.0.0 in /usr/local/lib/python3.12/dist-packages (from apache-beam) (5.3.1)\n",
            "Requirement already satisfied: regex>=2020.6.8 in /usr/local/lib/python3.12/dist-packages (from apache-beam) (2024.11.6)\n",
            "Requirement already satisfied: requests<3.0.0,>=2.32.4 in /usr/local/lib/python3.12/dist-packages (from apache-beam) (2.32.4)\n",
            "Requirement already satisfied: sortedcontainers>=2.4.0 in /usr/local/lib/python3.12/dist-packages (from apache-beam) (2.4.0)\n",
            "Requirement already satisfied: typing-extensions>=3.7.0 in /usr/local/lib/python3.12/dist-packages (from apache-beam) (4.15.0)\n",
            "Requirement already satisfied: zstandard<1,>=0.18.0 in /usr/local/lib/python3.12/dist-packages (from apache-beam) (0.25.0)\n",
            "Requirement already satisfied: pyyaml<7.0.0,>=3.12 in /usr/local/lib/python3.12/dist-packages (from apache-beam) (6.0.3)\n",
            "Requirement already satisfied: beartype<0.22.0,>=0.21.0 in /usr/local/lib/python3.12/dist-packages (from apache-beam) (0.21.0)\n",
            "Requirement already satisfied: pyarrow<19.0.0,>=3.0.0 in /usr/local/lib/python3.12/dist-packages (from apache-beam) (18.1.0)\n",
            "Requirement already satisfied: pyarrow-hotfix<1 in /usr/local/lib/python3.12/dist-packages (from apache-beam) (0.7)\n",
            "Requirement already satisfied: docopt in /usr/local/lib/python3.12/dist-packages (from hdfs<3.0.0,>=2.1.0->apache-beam) (0.6.2)\n",
            "Requirement already satisfied: six>=1.9.0 in /usr/local/lib/python3.12/dist-packages (from hdfs<3.0.0,>=2.1.0->apache-beam) (1.17.0)\n",
            "Requirement already satisfied: pyparsing!=3.0.0,!=3.0.1,!=3.0.2,!=3.0.3,<4,>=2.4.2 in /usr/local/lib/python3.12/dist-packages (from httplib2<0.23.0,>=0.8->apache-beam) (3.2.5)\n",
            "Requirement already satisfied: attrs>=22.2.0 in /usr/local/lib/python3.12/dist-packages (from jsonschema<5.0.0,>=4.0.0->apache-beam) (25.4.0)\n",
            "Requirement already satisfied: jsonschema-specifications>=2023.03.6 in /usr/local/lib/python3.12/dist-packages (from jsonschema<5.0.0,>=4.0.0->apache-beam) (2025.9.1)\n",
            "Requirement already satisfied: referencing>=0.28.4 in /usr/local/lib/python3.12/dist-packages (from jsonschema<5.0.0,>=4.0.0->apache-beam) (0.37.0)\n",
            "Requirement already satisfied: rpds-py>=0.7.1 in /usr/local/lib/python3.12/dist-packages (from jsonschema<5.0.0,>=4.0.0->apache-beam) (0.27.1)\n",
            "Requirement already satisfied: dnspython<3.0.0,>=1.16.0 in /usr/local/lib/python3.12/dist-packages (from pymongo<5.0.0,>=3.8.0->apache-beam) (2.8.0)\n",
            "Requirement already satisfied: PyJWT>=2.9.0 in /usr/local/lib/python3.12/dist-packages (from redis<6,>=5.0.0->apache-beam) (2.10.1)\n",
            "Requirement already satisfied: charset_normalizer<4,>=2 in /usr/local/lib/python3.12/dist-packages (from requests<3.0.0,>=2.32.4->apache-beam) (3.4.4)\n",
            "Requirement already satisfied: idna<4,>=2.5 in /usr/local/lib/python3.12/dist-packages (from requests<3.0.0,>=2.32.4->apache-beam) (3.11)\n",
            "Requirement already satisfied: urllib3<3,>=1.21.1 in /usr/local/lib/python3.12/dist-packages (from requests<3.0.0,>=2.32.4->apache-beam) (2.5.0)\n",
            "Requirement already satisfied: certifi>=2017.4.17 in /usr/local/lib/python3.12/dist-packages (from requests<3.0.0,>=2.32.4->apache-beam) (2025.10.5)\n"
          ]
        }
      ]
    },
    {
      "cell_type": "code",
      "source": [
        "input_file = '/content/hamlet.txt'  # Change this to your file path\n",
        "output_prefix = 'outputs/hamlet_analysis'"
      ],
      "metadata": {
        "id": "9zYi0_QW7nJn"
      },
      "execution_count": 3,
      "outputs": []
    },
    {
      "cell_type": "code",
      "source": [
        "!pip install apache-beam[interactive]"
      ],
      "metadata": {
        "colab": {
          "base_uri": "https://localhost:8080/"
        },
        "id": "PHglqp698Y9Y",
        "outputId": "02c38444-c313-4ec9-ed9f-2c8e56c95ec2"
      },
      "execution_count": 4,
      "outputs": [
        {
          "output_type": "stream",
          "name": "stdout",
          "text": [
            "Requirement already satisfied: apache-beam[interactive] in /usr/local/lib/python3.12/dist-packages (2.68.0)\n",
            "Requirement already satisfied: crcmod<2.0,>=1.7 in /usr/local/lib/python3.12/dist-packages (from apache-beam[interactive]) (1.7)\n",
            "Requirement already satisfied: orjson<4,>=3.9.7 in /usr/local/lib/python3.12/dist-packages (from apache-beam[interactive]) (3.11.3)\n",
            "Requirement already satisfied: dill<0.3.2,>=0.3.1.1 in /usr/local/lib/python3.12/dist-packages (from apache-beam[interactive]) (0.3.1.1)\n",
            "Requirement already satisfied: fastavro<2,>=0.23.6 in /usr/local/lib/python3.12/dist-packages (from apache-beam[interactive]) (1.12.1)\n",
            "Requirement already satisfied: fasteners<1.0,>=0.3 in /usr/local/lib/python3.12/dist-packages (from apache-beam[interactive]) (0.20)\n",
            "Requirement already satisfied: grpcio!=1.48.0,!=1.59.*,!=1.60.*,!=1.61.*,!=1.62.0,!=1.62.1,<1.66.0,<2,>=1.33.1 in /usr/local/lib/python3.12/dist-packages (from apache-beam[interactive]) (1.65.5)\n",
            "Requirement already satisfied: hdfs<3.0.0,>=2.1.0 in /usr/local/lib/python3.12/dist-packages (from apache-beam[interactive]) (2.7.3)\n",
            "Requirement already satisfied: httplib2<0.23.0,>=0.8 in /usr/local/lib/python3.12/dist-packages (from apache-beam[interactive]) (0.22.0)\n",
            "Requirement already satisfied: jsonschema<5.0.0,>=4.0.0 in /usr/local/lib/python3.12/dist-packages (from apache-beam[interactive]) (4.25.1)\n",
            "Requirement already satisfied: jsonpickle<4.0.0,>=3.0.0 in /usr/local/lib/python3.12/dist-packages (from apache-beam[interactive]) (3.4.2)\n",
            "Requirement already satisfied: numpy<2.3.0,>=1.14.3 in /usr/local/lib/python3.12/dist-packages (from apache-beam[interactive]) (2.0.2)\n",
            "Requirement already satisfied: objsize<0.8.0,>=0.6.1 in /usr/local/lib/python3.12/dist-packages (from apache-beam[interactive]) (0.7.1)\n",
            "Requirement already satisfied: packaging>=22.0 in /usr/local/lib/python3.12/dist-packages (from apache-beam[interactive]) (25.0)\n",
            "Requirement already satisfied: pymongo<5.0.0,>=3.8.0 in /usr/local/lib/python3.12/dist-packages (from apache-beam[interactive]) (4.15.3)\n",
            "Requirement already satisfied: proto-plus<2,>=1.7.1 in /usr/local/lib/python3.12/dist-packages (from apache-beam[interactive]) (1.26.1)\n",
            "Requirement already satisfied: protobuf!=4.0.*,!=4.21.*,!=4.22.0,!=4.23.*,!=4.24.*,<6.0.0.dev0,>=3.20.3 in /usr/local/lib/python3.12/dist-packages (from apache-beam[interactive]) (5.29.5)\n",
            "Requirement already satisfied: pydot<2,>=1.2.0 in /usr/local/lib/python3.12/dist-packages (from apache-beam[interactive]) (1.4.2)\n",
            "Requirement already satisfied: python-dateutil<3,>=2.8.0 in /usr/local/lib/python3.12/dist-packages (from apache-beam[interactive]) (2.9.0.post0)\n",
            "Requirement already satisfied: pytz>=2018.3 in /usr/local/lib/python3.12/dist-packages (from apache-beam[interactive]) (2025.2)\n",
            "Requirement already satisfied: redis<6,>=5.0.0 in /usr/local/lib/python3.12/dist-packages (from apache-beam[interactive]) (5.3.1)\n",
            "Requirement already satisfied: regex>=2020.6.8 in /usr/local/lib/python3.12/dist-packages (from apache-beam[interactive]) (2024.11.6)\n",
            "Requirement already satisfied: requests<3.0.0,>=2.32.4 in /usr/local/lib/python3.12/dist-packages (from apache-beam[interactive]) (2.32.4)\n",
            "Requirement already satisfied: sortedcontainers>=2.4.0 in /usr/local/lib/python3.12/dist-packages (from apache-beam[interactive]) (2.4.0)\n",
            "Requirement already satisfied: typing-extensions>=3.7.0 in /usr/local/lib/python3.12/dist-packages (from apache-beam[interactive]) (4.15.0)\n",
            "Requirement already satisfied: zstandard<1,>=0.18.0 in /usr/local/lib/python3.12/dist-packages (from apache-beam[interactive]) (0.25.0)\n",
            "Requirement already satisfied: pyyaml<7.0.0,>=3.12 in /usr/local/lib/python3.12/dist-packages (from apache-beam[interactive]) (6.0.3)\n",
            "Requirement already satisfied: beartype<0.22.0,>=0.21.0 in /usr/local/lib/python3.12/dist-packages (from apache-beam[interactive]) (0.21.0)\n",
            "Requirement already satisfied: pyarrow<19.0.0,>=3.0.0 in /usr/local/lib/python3.12/dist-packages (from apache-beam[interactive]) (18.1.0)\n",
            "Requirement already satisfied: pyarrow-hotfix<1 in /usr/local/lib/python3.12/dist-packages (from apache-beam[interactive]) (0.7)\n",
            "Requirement already satisfied: facets-overview<2,>=1.1.0 in /usr/local/lib/python3.12/dist-packages (from apache-beam[interactive]) (1.1.1)\n",
            "Requirement already satisfied: google-cloud-dataproc<6,>=5.0.0 in /usr/local/lib/python3.12/dist-packages (from apache-beam[interactive]) (5.22.0)\n",
            "Requirement already satisfied: ipython<9,>=7 in /usr/local/lib/python3.12/dist-packages (from apache-beam[interactive]) (7.34.0)\n",
            "Requirement already satisfied: ipykernel<7,>=6 in /usr/local/lib/python3.12/dist-packages (from apache-beam[interactive]) (6.17.1)\n",
            "Requirement already satisfied: ipywidgets<9,>=8 in /usr/local/lib/python3.12/dist-packages (from apache-beam[interactive]) (8.1.7)\n",
            "Requirement already satisfied: jupyter-client!=6.1.13,<8.2.1,>=6.1.11 in /usr/local/lib/python3.12/dist-packages (from apache-beam[interactive]) (7.4.9)\n",
            "Requirement already satisfied: timeloop<2,>=1.0.2 in /usr/local/lib/python3.12/dist-packages (from apache-beam[interactive]) (1.0.2)\n",
            "Requirement already satisfied: nbformat<6,>=5.0.5 in /usr/local/lib/python3.12/dist-packages (from apache-beam[interactive]) (5.10.4)\n",
            "Requirement already satisfied: nbconvert<8,>=6.2.0 in /usr/local/lib/python3.12/dist-packages (from apache-beam[interactive]) (7.16.6)\n",
            "Requirement already satisfied: pandas!=1.5.0,!=1.5.1,<2.3,>=1.4.3 in /usr/local/lib/python3.12/dist-packages (from apache-beam[interactive]) (2.2.2)\n",
            "Requirement already satisfied: google-api-core!=2.0.*,!=2.1.*,!=2.10.*,!=2.2.*,!=2.3.*,!=2.4.*,!=2.5.*,!=2.6.*,!=2.7.*,!=2.8.*,!=2.9.*,<3.0.0,>=1.34.1 in /usr/local/lib/python3.12/dist-packages (from google-api-core[grpc]!=2.0.*,!=2.1.*,!=2.10.*,!=2.2.*,!=2.3.*,!=2.4.*,!=2.5.*,!=2.6.*,!=2.7.*,!=2.8.*,!=2.9.*,<3.0.0,>=1.34.1->google-cloud-dataproc<6,>=5.0.0->apache-beam[interactive]) (2.26.0)\n",
            "Requirement already satisfied: google-auth!=2.24.0,!=2.25.0,<3.0.0,>=2.14.1 in /usr/local/lib/python3.12/dist-packages (from google-cloud-dataproc<6,>=5.0.0->apache-beam[interactive]) (2.38.0)\n",
            "Requirement already satisfied: grpc-google-iam-v1<1.0.0,>=0.14.0 in /usr/local/lib/python3.12/dist-packages (from google-cloud-dataproc<6,>=5.0.0->apache-beam[interactive]) (0.14.2)\n",
            "Requirement already satisfied: docopt in /usr/local/lib/python3.12/dist-packages (from hdfs<3.0.0,>=2.1.0->apache-beam[interactive]) (0.6.2)\n",
            "Requirement already satisfied: six>=1.9.0 in /usr/local/lib/python3.12/dist-packages (from hdfs<3.0.0,>=2.1.0->apache-beam[interactive]) (1.17.0)\n",
            "Requirement already satisfied: pyparsing!=3.0.0,!=3.0.1,!=3.0.2,!=3.0.3,<4,>=2.4.2 in /usr/local/lib/python3.12/dist-packages (from httplib2<0.23.0,>=0.8->apache-beam[interactive]) (3.2.5)\n",
            "Requirement already satisfied: debugpy>=1.0 in /usr/local/lib/python3.12/dist-packages (from ipykernel<7,>=6->apache-beam[interactive]) (1.8.15)\n",
            "Requirement already satisfied: matplotlib-inline>=0.1 in /usr/local/lib/python3.12/dist-packages (from ipykernel<7,>=6->apache-beam[interactive]) (0.1.7)\n",
            "Requirement already satisfied: nest-asyncio in /usr/local/lib/python3.12/dist-packages (from ipykernel<7,>=6->apache-beam[interactive]) (1.6.0)\n",
            "Requirement already satisfied: psutil in /usr/local/lib/python3.12/dist-packages (from ipykernel<7,>=6->apache-beam[interactive]) (5.9.5)\n",
            "Requirement already satisfied: pyzmq>=17 in /usr/local/lib/python3.12/dist-packages (from ipykernel<7,>=6->apache-beam[interactive]) (26.2.1)\n",
            "Requirement already satisfied: tornado>=6.1 in /usr/local/lib/python3.12/dist-packages (from ipykernel<7,>=6->apache-beam[interactive]) (6.5.1)\n",
            "Requirement already satisfied: traitlets>=5.1.0 in /usr/local/lib/python3.12/dist-packages (from ipykernel<7,>=6->apache-beam[interactive]) (5.7.1)\n",
            "Requirement already satisfied: setuptools>=18.5 in /usr/local/lib/python3.12/dist-packages (from ipython<9,>=7->apache-beam[interactive]) (75.2.0)\n",
            "Requirement already satisfied: jedi>=0.16 in /usr/local/lib/python3.12/dist-packages (from ipython<9,>=7->apache-beam[interactive]) (0.19.2)\n",
            "Requirement already satisfied: decorator in /usr/local/lib/python3.12/dist-packages (from ipython<9,>=7->apache-beam[interactive]) (4.4.2)\n",
            "Requirement already satisfied: pickleshare in /usr/local/lib/python3.12/dist-packages (from ipython<9,>=7->apache-beam[interactive]) (0.7.5)\n",
            "Requirement already satisfied: prompt-toolkit!=3.0.0,!=3.0.1,<3.1.0,>=2.0.0 in /usr/local/lib/python3.12/dist-packages (from ipython<9,>=7->apache-beam[interactive]) (3.0.52)\n",
            "Requirement already satisfied: pygments in /usr/local/lib/python3.12/dist-packages (from ipython<9,>=7->apache-beam[interactive]) (2.19.2)\n",
            "Requirement already satisfied: backcall in /usr/local/lib/python3.12/dist-packages (from ipython<9,>=7->apache-beam[interactive]) (0.2.0)\n",
            "Requirement already satisfied: pexpect>4.3 in /usr/local/lib/python3.12/dist-packages (from ipython<9,>=7->apache-beam[interactive]) (4.9.0)\n",
            "Requirement already satisfied: comm>=0.1.3 in /usr/local/lib/python3.12/dist-packages (from ipywidgets<9,>=8->apache-beam[interactive]) (0.2.3)\n",
            "Requirement already satisfied: widgetsnbextension~=4.0.14 in /usr/local/lib/python3.12/dist-packages (from ipywidgets<9,>=8->apache-beam[interactive]) (4.0.14)\n",
            "Requirement already satisfied: jupyterlab_widgets~=3.0.15 in /usr/local/lib/python3.12/dist-packages (from ipywidgets<9,>=8->apache-beam[interactive]) (3.0.15)\n",
            "Requirement already satisfied: attrs>=22.2.0 in /usr/local/lib/python3.12/dist-packages (from jsonschema<5.0.0,>=4.0.0->apache-beam[interactive]) (25.4.0)\n",
            "Requirement already satisfied: jsonschema-specifications>=2023.03.6 in /usr/local/lib/python3.12/dist-packages (from jsonschema<5.0.0,>=4.0.0->apache-beam[interactive]) (2025.9.1)\n",
            "Requirement already satisfied: referencing>=0.28.4 in /usr/local/lib/python3.12/dist-packages (from jsonschema<5.0.0,>=4.0.0->apache-beam[interactive]) (0.37.0)\n",
            "Requirement already satisfied: rpds-py>=0.7.1 in /usr/local/lib/python3.12/dist-packages (from jsonschema<5.0.0,>=4.0.0->apache-beam[interactive]) (0.27.1)\n",
            "Requirement already satisfied: entrypoints in /usr/local/lib/python3.12/dist-packages (from jupyter-client!=6.1.13,<8.2.1,>=6.1.11->apache-beam[interactive]) (0.4)\n",
            "Requirement already satisfied: jupyter-core>=4.9.2 in /usr/local/lib/python3.12/dist-packages (from jupyter-client!=6.1.13,<8.2.1,>=6.1.11->apache-beam[interactive]) (5.8.1)\n",
            "Requirement already satisfied: beautifulsoup4 in /usr/local/lib/python3.12/dist-packages (from nbconvert<8,>=6.2.0->apache-beam[interactive]) (4.13.5)\n",
            "Requirement already satisfied: bleach!=5.0.0 in /usr/local/lib/python3.12/dist-packages (from bleach[css]!=5.0.0->nbconvert<8,>=6.2.0->apache-beam[interactive]) (6.2.0)\n",
            "Requirement already satisfied: defusedxml in /usr/local/lib/python3.12/dist-packages (from nbconvert<8,>=6.2.0->apache-beam[interactive]) (0.7.1)\n",
            "Requirement already satisfied: jinja2>=3.0 in /usr/local/lib/python3.12/dist-packages (from nbconvert<8,>=6.2.0->apache-beam[interactive]) (3.1.6)\n",
            "Requirement already satisfied: jupyterlab-pygments in /usr/local/lib/python3.12/dist-packages (from nbconvert<8,>=6.2.0->apache-beam[interactive]) (0.3.0)\n",
            "Requirement already satisfied: markupsafe>=2.0 in /usr/local/lib/python3.12/dist-packages (from nbconvert<8,>=6.2.0->apache-beam[interactive]) (3.0.3)\n",
            "Requirement already satisfied: mistune<4,>=2.0.3 in /usr/local/lib/python3.12/dist-packages (from nbconvert<8,>=6.2.0->apache-beam[interactive]) (3.1.4)\n",
            "Requirement already satisfied: nbclient>=0.5.0 in /usr/local/lib/python3.12/dist-packages (from nbconvert<8,>=6.2.0->apache-beam[interactive]) (0.10.2)\n",
            "Requirement already satisfied: pandocfilters>=1.4.1 in /usr/local/lib/python3.12/dist-packages (from nbconvert<8,>=6.2.0->apache-beam[interactive]) (1.5.1)\n",
            "Requirement already satisfied: fastjsonschema>=2.15 in /usr/local/lib/python3.12/dist-packages (from nbformat<6,>=5.0.5->apache-beam[interactive]) (2.21.2)\n",
            "Requirement already satisfied: tzdata>=2022.7 in /usr/local/lib/python3.12/dist-packages (from pandas!=1.5.0,!=1.5.1,<2.3,>=1.4.3->apache-beam[interactive]) (2025.2)\n",
            "Requirement already satisfied: dnspython<3.0.0,>=1.16.0 in /usr/local/lib/python3.12/dist-packages (from pymongo<5.0.0,>=3.8.0->apache-beam[interactive]) (2.8.0)\n",
            "Requirement already satisfied: PyJWT>=2.9.0 in /usr/local/lib/python3.12/dist-packages (from redis<6,>=5.0.0->apache-beam[interactive]) (2.10.1)\n",
            "Requirement already satisfied: charset_normalizer<4,>=2 in /usr/local/lib/python3.12/dist-packages (from requests<3.0.0,>=2.32.4->apache-beam[interactive]) (3.4.4)\n",
            "Requirement already satisfied: idna<4,>=2.5 in /usr/local/lib/python3.12/dist-packages (from requests<3.0.0,>=2.32.4->apache-beam[interactive]) (3.11)\n",
            "Requirement already satisfied: urllib3<3,>=1.21.1 in /usr/local/lib/python3.12/dist-packages (from requests<3.0.0,>=2.32.4->apache-beam[interactive]) (2.5.0)\n",
            "Requirement already satisfied: certifi>=2017.4.17 in /usr/local/lib/python3.12/dist-packages (from requests<3.0.0,>=2.32.4->apache-beam[interactive]) (2025.10.5)\n",
            "Requirement already satisfied: webencodings in /usr/local/lib/python3.12/dist-packages (from bleach!=5.0.0->bleach[css]!=5.0.0->nbconvert<8,>=6.2.0->apache-beam[interactive]) (0.5.1)\n",
            "Requirement already satisfied: tinycss2<1.5,>=1.1.0 in /usr/local/lib/python3.12/dist-packages (from bleach[css]!=5.0.0->nbconvert<8,>=6.2.0->apache-beam[interactive]) (1.4.0)\n",
            "Requirement already satisfied: googleapis-common-protos<2.0.0,>=1.56.2 in /usr/local/lib/python3.12/dist-packages (from google-api-core!=2.0.*,!=2.1.*,!=2.10.*,!=2.2.*,!=2.3.*,!=2.4.*,!=2.5.*,!=2.6.*,!=2.7.*,!=2.8.*,!=2.9.*,<3.0.0,>=1.34.1->google-api-core[grpc]!=2.0.*,!=2.1.*,!=2.10.*,!=2.2.*,!=2.3.*,!=2.4.*,!=2.5.*,!=2.6.*,!=2.7.*,!=2.8.*,!=2.9.*,<3.0.0,>=1.34.1->google-cloud-dataproc<6,>=5.0.0->apache-beam[interactive]) (1.70.0)\n",
            "Requirement already satisfied: grpcio-status<2.0.0,>=1.33.2 in /usr/local/lib/python3.12/dist-packages (from google-api-core[grpc]!=2.0.*,!=2.1.*,!=2.10.*,!=2.2.*,!=2.3.*,!=2.4.*,!=2.5.*,!=2.6.*,!=2.7.*,!=2.8.*,!=2.9.*,<3.0.0,>=1.34.1->google-cloud-dataproc<6,>=5.0.0->apache-beam[interactive]) (1.65.5)\n",
            "Requirement already satisfied: cachetools<6.0,>=2.0.0 in /usr/local/lib/python3.12/dist-packages (from google-auth!=2.24.0,!=2.25.0,<3.0.0,>=2.14.1->google-cloud-dataproc<6,>=5.0.0->apache-beam[interactive]) (5.5.2)\n",
            "Requirement already satisfied: pyasn1-modules>=0.2.1 in /usr/local/lib/python3.12/dist-packages (from google-auth!=2.24.0,!=2.25.0,<3.0.0,>=2.14.1->google-cloud-dataproc<6,>=5.0.0->apache-beam[interactive]) (0.4.2)\n",
            "Requirement already satisfied: rsa<5,>=3.1.4 in /usr/local/lib/python3.12/dist-packages (from google-auth!=2.24.0,!=2.25.0,<3.0.0,>=2.14.1->google-cloud-dataproc<6,>=5.0.0->apache-beam[interactive]) (4.9.1)\n",
            "Requirement already satisfied: parso<0.9.0,>=0.8.4 in /usr/local/lib/python3.12/dist-packages (from jedi>=0.16->ipython<9,>=7->apache-beam[interactive]) (0.8.5)\n",
            "Requirement already satisfied: platformdirs>=2.5 in /usr/local/lib/python3.12/dist-packages (from jupyter-core>=4.9.2->jupyter-client!=6.1.13,<8.2.1,>=6.1.11->apache-beam[interactive]) (4.5.0)\n",
            "Requirement already satisfied: ptyprocess>=0.5 in /usr/local/lib/python3.12/dist-packages (from pexpect>4.3->ipython<9,>=7->apache-beam[interactive]) (0.7.0)\n",
            "Requirement already satisfied: wcwidth in /usr/local/lib/python3.12/dist-packages (from prompt-toolkit!=3.0.0,!=3.0.1,<3.1.0,>=2.0.0->ipython<9,>=7->apache-beam[interactive]) (0.2.14)\n",
            "Requirement already satisfied: soupsieve>1.2 in /usr/local/lib/python3.12/dist-packages (from beautifulsoup4->nbconvert<8,>=6.2.0->apache-beam[interactive]) (2.8)\n",
            "Requirement already satisfied: pyasn1<0.7.0,>=0.6.1 in /usr/local/lib/python3.12/dist-packages (from pyasn1-modules>=0.2.1->google-auth!=2.24.0,!=2.25.0,<3.0.0,>=2.14.1->google-cloud-dataproc<6,>=5.0.0->apache-beam[interactive]) (0.6.1)\n"
          ]
        }
      ]
    },
    {
      "cell_type": "code",
      "source": [
        "#============================================================================\n",
        "# TRANSFORMATION 1: Advanced Word Count with Filtering\n",
        "# ============================================================================\n",
        "print(\"=\" * 70)\n",
        "print(\"PIPELINE 1: Case-Insensitive Word Count (Min Length: 5)\")\n",
        "print(\"=\" * 70)\n",
        "\n",
        "with beam.Pipeline() as pipeline:\n",
        "    word_counts = (\n",
        "        pipeline\n",
        "        | 'Read Hamlet' >> beam.io.ReadFromText(input_file)\n",
        "        | 'Convert to Lowercase' >> beam.Map(lambda line: line.lower())\n",
        "        | 'Extract Words' >> beam.FlatMap(lambda line: re.findall(r\"[a-z']+\", line))\n",
        "        | 'Filter Long Words' >> beam.Filter(lambda word: len(word) >= 5)\n",
        "        | 'Pair with 1' >> beam.Map(lambda word: (word, 1))\n",
        "        | 'Sum Counts' >> beam.CombinePerKey(sum)\n",
        "        | 'Sort by Count' >> beam.combiners.ToList()\n",
        "        | 'Get Top 20' >> beam.Map(lambda words: sorted(words, key=lambda x: x[1], reverse=True)[:20])\n",
        "        | 'Flatten' >> beam.FlatMap(lambda x: x)\n",
        "        | 'Format Output' >> beam.Map(lambda wc: f'{wc[0]:<20} {wc[1]:>5}')\n",
        "        | 'Write Top Words' >> beam.io.WriteToText(f'{output_prefix}_top_words')\n",
        "    )\n",
        "\n",
        "print(\"\\n✅ Pipeline 1 Complete: Top 20 words written to outputs/\")"
      ],
      "metadata": {
        "colab": {
          "base_uri": "https://localhost:8080/"
        },
        "id": "97tGf4Fa79x8",
        "outputId": "521fa8f1-291d-46bf-fcdb-446bb7039c68"
      },
      "execution_count": 6,
      "outputs": [
        {
          "output_type": "stream",
          "name": "stdout",
          "text": [
            "======================================================================\n",
            "PIPELINE 1: Case-Insensitive Word Count (Min Length: 5)\n",
            "======================================================================\n"
          ]
        },
        {
          "output_type": "stream",
          "name": "stderr",
          "text": [
            "WARNING:apache_beam.io.filebasedsink:Deleting 1 existing files in target path matching: -*-of-%(num_shards)05d\n"
          ]
        },
        {
          "output_type": "stream",
          "name": "stdout",
          "text": [
            "\n",
            "✅ Pipeline 1 Complete: Top 20 words written to outputs/\n"
          ]
        }
      ]
    },
    {
      "cell_type": "code",
      "source": [
        "# ============================================================================\n",
        "# TRANSFORMATION 2: Character Analysis\n",
        "# ============================================================================\n",
        "print(\"\\n\" + \"=\" * 70)\n",
        "print(\"PIPELINE 2: Character Speech Analysis\")\n",
        "print(\"=\" * 70)\n",
        "\n",
        "def extract_character_lines(line):\n",
        "    \"\"\"Extract character name and their dialogue\"\"\"\n",
        "    # Pattern to match character names (all caps followed by period or colon)\n",
        "    match = re.match(r'^\\s*([A-Z][A-Z\\s]+)[\\.\\:]', line)\n",
        "    if match:\n",
        "        character = match.group(1).strip()\n",
        "        # Get the text after the character name\n",
        "        dialogue = line[match.end():].strip()\n",
        "        if dialogue:\n",
        "            return [(character, dialogue)]\n",
        "    return []\n",
        "\n",
        "with beam.Pipeline() as pipeline:\n",
        "    character_stats = (\n",
        "        pipeline\n",
        "        | 'Read Hamlet 2' >> beam.io.ReadFromText(input_file)\n",
        "        | 'Extract Dialogues' >> beam.FlatMap(extract_character_lines)\n",
        "        | 'Count Words per Character' >> beam.Map(lambda x: (x[0], len(x[1].split())))\n",
        "        | 'Sum by Character' >> beam.CombinePerKey(sum)\n",
        "        | 'Sort Characters' >> beam.combiners.ToList()\n",
        "        | 'Top Characters' >> beam.Map(lambda chars: sorted(chars, key=lambda x: x[1], reverse=True)[:10])\n",
        "        | 'Flatten 2' >> beam.FlatMap(lambda x: x)\n",
        "        | 'Format Characters' >> beam.Map(lambda c: f'{c[0]:<30} {c[1]:>6} words')\n",
        "        | 'Write Characters' >> beam.io.WriteToText(f'{output_prefix}_character_words')\n",
        "    )\n",
        "\n",
        "print(\"✅ Pipeline 2 Complete: Character analysis written to outputs/\")"
      ],
      "metadata": {
        "colab": {
          "base_uri": "https://localhost:8080/"
        },
        "id": "vo7aibiZ9DfW",
        "outputId": "9b1d3ad7-0e3d-4606-b123-4faa9f5497cf"
      },
      "execution_count": 7,
      "outputs": [
        {
          "output_type": "stream",
          "name": "stdout",
          "text": [
            "\n",
            "======================================================================\n",
            "PIPELINE 2: Character Speech Analysis\n",
            "======================================================================\n"
          ]
        },
        {
          "output_type": "stream",
          "name": "stderr",
          "text": [
            "WARNING:apache_beam.io.filebasedsink:Deleting 1 existing files in target path matching: -*-of-%(num_shards)05d\n"
          ]
        },
        {
          "output_type": "stream",
          "name": "stdout",
          "text": [
            "✅ Pipeline 2 Complete: Character analysis written to outputs/\n"
          ]
        }
      ]
    },
    {
      "cell_type": "code",
      "source": [
        "# ============================================================================\n",
        "# TRANSFORMATION 3: Word Length Distribution\n",
        "# ============================================================================\n",
        "print(\"\\n\" + \"=\" * 70)\n",
        "print(\"PIPELINE 3: Word Length Distribution\")\n",
        "print(\"=\" * 70)\n",
        "\n",
        "with beam.Pipeline() as pipeline:\n",
        "    length_dist = (\n",
        "        pipeline\n",
        "        | 'Read Hamlet 3' >> beam.io.ReadFromText(input_file)\n",
        "        | 'Extract Words 3' >> beam.FlatMap(lambda line: re.findall(r\"[a-zA-Z']+\", line))\n",
        "        | 'Get Word Lengths' >> beam.Map(lambda word: (len(word), 1))\n",
        "        | 'Count by Length' >> beam.CombinePerKey(sum)\n",
        "        | 'Sort by Length' >> beam.combiners.ToList()\n",
        "        | 'Sort List' >> beam.Map(lambda items: sorted(items, key=lambda x: x[0]))\n",
        "        | 'Flatten 3' >> beam.FlatMap(lambda x: x)\n",
        "        | 'Format Lengths' >> beam.Map(lambda l: f'Length {l[0]:>2}: {\"*\" * (l[1] // 100)} ({l[1]})')\n",
        "        | 'Write Lengths' >> beam.io.WriteToText(f'{output_prefix}_word_lengths')\n",
        "    )\n",
        "\n",
        "print(\"✅ Pipeline 3 Complete: Word length distribution written to outputs/\")"
      ],
      "metadata": {
        "colab": {
          "base_uri": "https://localhost:8080/"
        },
        "id": "IRhrosAL9EJH",
        "outputId": "367188b7-92d6-4f3a-d3c5-9613838e6cf8"
      },
      "execution_count": 8,
      "outputs": [
        {
          "output_type": "stream",
          "name": "stdout",
          "text": [
            "\n",
            "======================================================================\n",
            "PIPELINE 3: Word Length Distribution\n",
            "======================================================================\n"
          ]
        },
        {
          "output_type": "stream",
          "name": "stderr",
          "text": [
            "WARNING:apache_beam.io.filebasedsink:Deleting 1 existing files in target path matching: -*-of-%(num_shards)05d\n"
          ]
        },
        {
          "output_type": "stream",
          "name": "stdout",
          "text": [
            "✅ Pipeline 3 Complete: Word length distribution written to outputs/\n"
          ]
        }
      ]
    },
    {
      "cell_type": "code",
      "source": [
        "# ============================================================================\n",
        "# TRANSFORMATION 4: Unique Words per Act\n",
        "# ============================================================================\n",
        "print(\"\\n\" + \"=\" * 70)\n",
        "print(\"PIPELINE 4: Vocabulary Richness per Act\")\n",
        "print(\"=\" * 70)\n",
        "\n",
        "class ExtractActWords(beam.DoFn):\n",
        "    \"\"\"Custom DoFn to track which act we're in and extract words\"\"\"\n",
        "    def __init__(self):\n",
        "        self.current_act = \"PROLOGUE\"\n",
        "\n",
        "    def process(self, line):\n",
        "        # Check if this line indicates a new act\n",
        "        act_match = re.match(r'^ACT\\s+([IVX]+)', line.strip())\n",
        "        if act_match:\n",
        "            self.current_act = f\"ACT_{act_match.group(1)}\"\n",
        "\n",
        "        # Extract words from the line\n",
        "        words = re.findall(r\"[a-z']+\", line.lower())\n",
        "        for word in words:\n",
        "            if len(word) >= 4:  # Only words with 4+ letters\n",
        "                yield (self.current_act, word)\n",
        "\n",
        "with beam.Pipeline() as pipeline:\n",
        "    act_vocab = (\n",
        "        pipeline\n",
        "        | 'Read Hamlet 4' >> beam.io.ReadFromText(input_file)\n",
        "        | 'Extract Act Words' >> beam.ParDo(ExtractActWords())\n",
        "        | 'Remove Duplicates' >> beam.Distinct()\n",
        "        | 'Count per Act' >> beam.combiners.Count.PerKey()\n",
        "        | 'Format Acts' >> beam.Map(lambda av: f'{av[0]:<15} {av[1]:>6} unique words')\n",
        "        | 'Write Act Vocab' >> beam.io.WriteToText(f'{output_prefix}_act_vocabulary')\n",
        "    )\n",
        "\n",
        "print(\"✅ Pipeline 4 Complete: Act vocabulary analysis written to outputs/\")\n"
      ],
      "metadata": {
        "colab": {
          "base_uri": "https://localhost:8080/"
        },
        "id": "Cn5sRCMK9ELM",
        "outputId": "63133cba-e180-4bb5-a57f-39ac65f5451d"
      },
      "execution_count": 9,
      "outputs": [
        {
          "output_type": "stream",
          "name": "stdout",
          "text": [
            "\n",
            "======================================================================\n",
            "PIPELINE 4: Vocabulary Richness per Act\n",
            "======================================================================\n"
          ]
        },
        {
          "output_type": "stream",
          "name": "stderr",
          "text": [
            "WARNING:apache_beam.io.filebasedsink:Deleting 1 existing files in target path matching: -*-of-%(num_shards)05d\n"
          ]
        },
        {
          "output_type": "stream",
          "name": "stdout",
          "text": [
            "✅ Pipeline 4 Complete: Act vocabulary analysis written to outputs/\n"
          ]
        }
      ]
    },
    {
      "cell_type": "code",
      "source": [
        "# ============================================================================\n",
        "# TRANSFORMATION 5: Sentiment Words Analysis\n",
        "# ============================================================================\n",
        "print(\"\\n\" + \"=\" * 70)\n",
        "print(\"PIPELINE 5: Emotional Word Analysis\")\n",
        "print(\"=\" * 70)\n",
        "\n",
        "# Define sentiment word lists\n",
        "POSITIVE_WORDS = {'love', 'good', 'sweet', 'fair', 'noble', 'grace', 'heaven',\n",
        "                  'joy', 'happy', 'gentle', 'kind', 'honest', 'true', 'worthy'}\n",
        "NEGATIVE_WORDS = {'death', 'dead', 'murder', 'revenge', 'mad', 'cruel', 'evil',\n",
        "                  'villain', 'blood', 'hell', 'woe', 'grief', 'cursed', 'foul'}\n",
        "\n",
        "def classify_sentiment(word):\n",
        "    \"\"\"Classify word as positive, negative, or neutral\"\"\"\n",
        "    if word in POSITIVE_WORDS:\n",
        "        return [('POSITIVE', word)]\n",
        "    elif word in NEGATIVE_WORDS:\n",
        "        return [('NEGATIVE', word)]\n",
        "    return []\n",
        "\n",
        "with beam.Pipeline() as pipeline:\n",
        "    sentiment = (\n",
        "        pipeline\n",
        "        | 'Read Hamlet 5' >> beam.io.ReadFromText(input_file)\n",
        "        | 'Extract Words 5' >> beam.FlatMap(lambda line: re.findall(r\"[a-z']+\", line.lower()))\n",
        "        | 'Classify Sentiment' >> beam.FlatMap(classify_sentiment)\n",
        "        | 'Count by Sentiment' >> beam.Map(lambda x: (x[0], 1))\n",
        "        | 'Sum Sentiment' >> beam.CombinePerKey(sum)\n",
        "        | 'Format Sentiment' >> beam.Map(lambda s: f'{s[0]:<12} words: {s[1]:>4}')\n",
        "        | 'Write Sentiment' >> beam.io.WriteToText(f'{output_prefix}_sentiment')\n",
        "    )\n",
        "\n",
        "print(\"✅ Pipeline 5 Complete: Sentiment analysis written to outputs/\")"
      ],
      "metadata": {
        "colab": {
          "base_uri": "https://localhost:8080/"
        },
        "id": "fHjjLCAx9PPK",
        "outputId": "37509772-fc4d-45d0-cf9a-7b71ad7faa24"
      },
      "execution_count": 10,
      "outputs": [
        {
          "output_type": "stream",
          "name": "stdout",
          "text": [
            "\n",
            "======================================================================\n",
            "PIPELINE 5: Emotional Word Analysis\n",
            "======================================================================\n"
          ]
        },
        {
          "output_type": "stream",
          "name": "stderr",
          "text": [
            "WARNING:apache_beam.io.filebasedsink:Deleting 1 existing files in target path matching: -*-of-%(num_shards)05d\n"
          ]
        },
        {
          "output_type": "stream",
          "name": "stdout",
          "text": [
            "✅ Pipeline 5 Complete: Sentiment analysis written to outputs/\n",
            "\n",
            "======================================================================\n",
            "PIPELINE 6: Scene Length Analysis\n",
            "======================================================================\n",
            "✅ Pipeline 6 Complete: Scene analysis written to outputs/\n"
          ]
        }
      ]
    },
    {
      "cell_type": "code",
      "source": [
        "# ============================================================================\n",
        "# TRANSFORMATION 6: Scene Analysis\n",
        "# ============================================================================\n",
        "print(\"\\n\" + \"=\" * 70)\n",
        "print(\"PIPELINE 6: Scene Length Analysis\")\n",
        "print(\"=\" * 70)\n",
        "\n",
        "class SceneWordCounter(beam.DoFn):\n",
        "    \"\"\"Count words per scene\"\"\"\n",
        "    def __init__(self):\n",
        "        self.current_scene = \"INTRO\"\n",
        "        self.word_count = 0\n",
        "\n",
        "    def process(self, line):\n",
        "        # Check for scene markers\n",
        "        scene_match = re.match(r'Scene\\s+([IVX]+)', line.strip())\n",
        "        if scene_match:\n",
        "            if self.word_count > 0:\n",
        "                yield (self.current_scene, self.word_count)\n",
        "            self.current_scene = f\"SCENE_{scene_match.group(1)}\"\n",
        "            self.word_count = 0\n",
        "        else:\n",
        "            # Count words in this line\n",
        "            words = re.findall(r\"[a-zA-Z']+\", line)\n",
        "            self.word_count += len(words)\n",
        "\n",
        "with beam.Pipeline() as pipeline:\n",
        "    scene_lengths = (\n",
        "        pipeline\n",
        "        | 'Read Hamlet 6' >> beam.io.ReadFromText(input_file)\n",
        "        | 'Count Scene Words' >> beam.ParDo(SceneWordCounter())\n",
        "        | 'Format Scenes' >> beam.Map(lambda s: f'{s[0]:<15} {s[1]:>6} words')\n",
        "        | 'Write Scenes' >> beam.io.WriteToText(f'{output_prefix}_scene_lengths')\n",
        "    )\n",
        "\n",
        "print(\"✅ Pipeline 6 Complete: Scene analysis written to outputs/\")\n"
      ],
      "metadata": {
        "colab": {
          "base_uri": "https://localhost:8080/"
        },
        "id": "6bLrCKcO9qUo",
        "outputId": "1bf8056e-79c2-4e02-c16c-84bc739bc5c4"
      },
      "execution_count": 11,
      "outputs": [
        {
          "output_type": "stream",
          "name": "stdout",
          "text": [
            "\n",
            "======================================================================\n",
            "PIPELINE 6: Scene Length Analysis\n",
            "======================================================================\n"
          ]
        },
        {
          "output_type": "stream",
          "name": "stderr",
          "text": [
            "WARNING:apache_beam.io.filebasedsink:Deleting 1 existing files in target path matching: -*-of-%(num_shards)05d\n"
          ]
        },
        {
          "output_type": "stream",
          "name": "stdout",
          "text": [
            "✅ Pipeline 6 Complete: Scene analysis written to outputs/\n"
          ]
        }
      ]
    },
    {
      "cell_type": "code",
      "source": [
        "# ============================================================================\n",
        "# DISPLAY RESULTS\n",
        "# ============================================================================\n",
        "print(\"\\n\" + \"=\" * 70)\n",
        "print(\"ALL PIPELINES COMPLETED SUCCESSFULLY!\")\n",
        "print(\"=\" * 70)\n",
        "print(\"\\nGenerated Output Files:\")\n",
        "print(\"1. hamlet_analysis_top_words-*       → Top 20 most frequent words\")\n",
        "print(\"2. hamlet_analysis_character_words-* → Characters ranked by dialogue\")\n",
        "print(\"3. hamlet_analysis_word_lengths-*    → Word length distribution\")\n",
        "print(\"4. hamlet_analysis_act_vocabulary-*  → Unique words per act\")\n",
        "print(\"5. hamlet_analysis_sentiment-*       → Positive vs negative words\")\n",
        "print(\"6. hamlet_analysis_scene_lengths-*   → Words per scene\")\n",
        "print(\"\\n\" + \"=\" * 70)\n",
        "\n",
        "# Display sample results\n",
        "import glob\n",
        "\n",
        "print(\"\\n📊 SAMPLE RESULTS:\")\n",
        "print(\"=\" * 70)\n",
        "\n",
        "for pattern in ['top_words', 'character_words', 'sentiment']:\n",
        "    files = glob.glob(f'{output_prefix}_{pattern}-*')\n",
        "    if files:\n",
        "        print(f\"\\n--- {pattern.upper().replace('_', ' ')} ---\")\n",
        "        with open(files[0], 'r') as f:\n",
        "            lines = f.readlines()[:10]  # Show first 10 lines\n",
        "            for line in lines:\n",
        "                print(line.strip())"
      ],
      "metadata": {
        "colab": {
          "base_uri": "https://localhost:8080/"
        },
        "id": "FvPj-7tj9PpT",
        "outputId": "297b4b0a-153f-45a5-940f-6516c3a6900a"
      },
      "execution_count": 12,
      "outputs": [
        {
          "output_type": "stream",
          "name": "stdout",
          "text": [
            "\n",
            "======================================================================\n",
            "ALL PIPELINES COMPLETED SUCCESSFULLY!\n",
            "======================================================================\n",
            "\n",
            "Generated Output Files:\n",
            "1. hamlet_analysis_top_words-*       → Top 20 most frequent words\n",
            "2. hamlet_analysis_character_words-* → Characters ranked by dialogue\n",
            "3. hamlet_analysis_word_lengths-*    → Word length distribution\n",
            "4. hamlet_analysis_act_vocabulary-*  → Unique words per act\n",
            "5. hamlet_analysis_sentiment-*       → Positive vs negative words\n",
            "6. hamlet_analysis_scene_lengths-*   → Words per scene\n",
            "\n",
            "======================================================================\n",
            "\n",
            "📊 SAMPLE RESULTS:\n",
            "======================================================================\n",
            "\n",
            "--- TOP WORDS ---\n",
            "queen                  118\n",
            "shall                  114\n",
            "hamlet                 106\n",
            "would                   80\n",
            "there                   76\n",
            "enter                   73\n",
            "which                   64\n",
            "speak                   63\n",
            "their                   57\n",
            "should                  55\n",
            "\n",
            "--- CHARACTER WORDS ---\n",
            "SCENE                               2 words\n",
            "ACT I                               2 words\n",
            "ACT III                             2 words\n",
            "ACT IV                              2 words\n",
            "ACT V                               2 words\n",
            "HAMLET                              1 words\n",
            "\n",
            "--- SENTIMENT ---\n",
            "POSITIVE     words:  362\n",
            "NEGATIVE     words:  183\n"
          ]
        }
      ]
    },
    {
      "cell_type": "code",
      "source": [
        "# Create a zip file of the outputs folder\n",
        "!zip -r outputs.zip outputs/\n",
        "\n",
        "# Download the zip file\n",
        "from google.colab import files\n",
        "files.download('outputs.zip')"
      ],
      "metadata": {
        "colab": {
          "base_uri": "https://localhost:8080/",
          "height": 228
        },
        "id": "MnXjxKCC9EOO",
        "outputId": "e339bce6-0052-4016-c570-142a913e8b80"
      },
      "execution_count": 13,
      "outputs": [
        {
          "output_type": "stream",
          "name": "stdout",
          "text": [
            "  adding: outputs/ (stored 0%)\n",
            "  adding: outputs/hamlet_analysis_sentiment-00000-of-00001 (deflated 32%)\n",
            "  adding: outputs/hamlet_analysis_character_words-00000-of-00001 (deflated 81%)\n",
            "  adding: outputs/hamlet_analysis_word_lengths-00000-of-00001 (deflated 76%)\n",
            "  adding: outputs/hamlet_analysis_act_vocabulary-00000-of-00001 (deflated 61%)\n",
            "  adding: outputs/hamlet_analysis_scene_lengths-00000-of-00001 (deflated 73%)\n",
            "  adding: outputs/beam-temp-hamlet_analysis_scene_lengths-47ee2e62ae0c11f084060242ac1c000c/ (stored 0%)\n",
            "  adding: outputs/beam-temp-hamlet_analysis_scene_lengths-47ee2e62ae0c11f084060242ac1c000c/60eeaf7c-8891-4842-a701-0a27e9c7becf.hamlet_analysis_scene_lengths (stored 0%)\n",
            "  adding: outputs/beam-temp-hamlet_analysis_scene_lengths-0944510aae0c11f0a4170242ac1c000c/ (stored 0%)\n",
            "  adding: outputs/beam-temp-hamlet_analysis_scene_lengths-0944510aae0c11f0a4170242ac1c000c/e8b7e325-1133-46e4-95b4-e332a5b6df29.hamlet_analysis_scene_lengths (stored 0%)\n",
            "  adding: outputs/hamlet_analysis_top_words-00000-of-00001 (deflated 71%)\n"
          ]
        },
        {
          "output_type": "display_data",
          "data": {
            "text/plain": [
              "<IPython.core.display.Javascript object>"
            ],
            "application/javascript": [
              "\n",
              "    async function download(id, filename, size) {\n",
              "      if (!google.colab.kernel.accessAllowed) {\n",
              "        return;\n",
              "      }\n",
              "      const div = document.createElement('div');\n",
              "      const label = document.createElement('label');\n",
              "      label.textContent = `Downloading \"${filename}\": `;\n",
              "      div.appendChild(label);\n",
              "      const progress = document.createElement('progress');\n",
              "      progress.max = size;\n",
              "      div.appendChild(progress);\n",
              "      document.body.appendChild(div);\n",
              "\n",
              "      const buffers = [];\n",
              "      let downloaded = 0;\n",
              "\n",
              "      const channel = await google.colab.kernel.comms.open(id);\n",
              "      // Send a message to notify the kernel that we're ready.\n",
              "      channel.send({})\n",
              "\n",
              "      for await (const message of channel.messages) {\n",
              "        // Send a message to notify the kernel that we're ready.\n",
              "        channel.send({})\n",
              "        if (message.buffers) {\n",
              "          for (const buffer of message.buffers) {\n",
              "            buffers.push(buffer);\n",
              "            downloaded += buffer.byteLength;\n",
              "            progress.value = downloaded;\n",
              "          }\n",
              "        }\n",
              "      }\n",
              "      const blob = new Blob(buffers, {type: 'application/binary'});\n",
              "      const a = document.createElement('a');\n",
              "      a.href = window.URL.createObjectURL(blob);\n",
              "      a.download = filename;\n",
              "      div.appendChild(a);\n",
              "      a.click();\n",
              "      div.remove();\n",
              "    }\n",
              "  "
            ]
          },
          "metadata": {}
        },
        {
          "output_type": "display_data",
          "data": {
            "text/plain": [
              "<IPython.core.display.Javascript object>"
            ],
            "application/javascript": [
              "download(\"download_dbee7dba-0a84-45c8-8551-4c0164f56a28\", \"outputs.zip\", 3530)"
            ]
          },
          "metadata": {}
        }
      ]
    }
  ]
}